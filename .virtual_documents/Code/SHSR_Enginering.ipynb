





!conda info



nc_path = "/Users/siwu/Documents/CS7980/tornado_project/comparative_analysis/torn_pred_updated/data/SHSRdata/torn/"
csv_file = "/Users/siwu/Documents/CS7980/tornado_project/comparative_analysis/torn_pred_updated/data/2021_torn.csv"  
import sys
import numpy as np
import pandas as pd
import xarray as xr 
from netCDF4 import Dataset
import matplotlib.pyplot as plt
from pandas import DataFrame

index = 9
nc_file_path = nc_path + "{}.nc".format(index) 
xr_data = xr.open_dataset(nc_file_path )
csv_data = pd.read_csv(csv_file).iloc[index]
print("xr_data:")
print( xr_data, "\n" )
print("csv_data:")
print(csv_data, "\n")





from operator import itemgetter

# convert .nc data's time into hour-minute time ... 
for i in range(5):
    tmp = str(xr_data['time'][i].values)
    print(type(tmp),tmp)
    h, m = tmp[11:13], tmp[14:16]
    print(h, ":",m)
    
def time_diff( t1, t2, shift=6 ):  
    # the shift here means 
    (h1,m1), (h2,m2) = t1, t2 
    h2 = (h2+shift)%24 
    return abs( (h1-h2)*60 + m1-m2 ) 

tmp = str( csv_data["time"] )
if tmp[0] == "0":
    h = int(tmp[1])
else:
    h = int(tmp[:2])
m = int(tmp[3:5]) 

tmps = []
for i in range( len(xr_data['time']) ):
    tmp = str(xr_data['time'][i].values)
    if tmp[11] == "0":
        h_ = int(tmp[12])
    else:
        h_ = int(tmp[11])
    m_ = int(tmp[14:16])
    tmps.append( time_diff( [h_,m_], [h,m] ) ) 

index, element = min(enumerate(tmps), key=itemgetter(1))
print( index, element )


test_data = [ [1,2,3], [4,5,6], [7,8,9] ]
test_data = np.asarray( test_data )
val = len(test_data [test_data>3] ) 
print( val )
tmp = xr_data["SHSR"][0].values
print( np.mean(tmp), np.max(tmp) )





# old version
net_data = Dataset( nc_file_path )
print(net_data.variables.keys())
 
for var in ['longitude', 'latitude', 'time']:
    data=net_data.variables[var][:].data
    print(var,data.shape)
    print( data[:5] )


for var in [ 'longitude', 'latitude', 'time', "SHSR" ]:
    print( var, xr_data[var].shape )
    # print( xr_data[var][0] )

# choose the time closest to the time listed in our index sheet 
print(xr_data['time'][0:12])    # the data is collected every ten min, and there is a 6h shift ... 





import pygrib
import pandas as pd
import numpy as np
import matplotlib.pyplot as plt
import cartopy.crs as ccrs
import cartopy.feature as cfeature


s_lat, s_lon, e_lat, e_lon = 32.632, -84.256, 33.0312, -83.7509 
buffer = 1
s_lat -= buffer
s_lon -= buffer
e_lat += buffer
e_lon += buffer
lats, lons = xr_data['latitude'], xr_data['longitude']
lon2d, lat2d = np.meshgrid(lons, lats)





start = 0
var = xr_data['SHSR']
min_lat = np.amin(lats)
max_lat = np.amax(lats)
min_lon = np.amin(lons)
max_lon = np.amax(lons)   

for i in range(19):
    fig = plt.figure(figsize=(4, 4))
    ax = fig.add_subplot(1, 1, 1, projection=ccrs.PlateCarree())
    ax.set_extent([min_lon, max_lon, min_lat, max_lat], crs=ccrs.PlateCarree())
    ax.gridlines(draw_labels=True, dms=True, x_inline=False, y_inline=False)
    cf = ax.contourf(lon2d, lat2d, var[start+i], transform=ccrs.PlateCarree())
    cb = plt.colorbar(cf, orientation='horizontal', pad=0.05, aspect=50)
    plt.title( xr_data['time'][start+i].values )
    plt.show()





start = 0
var = xr_data['SHSR'].values 
min_lat = np.amin(lats)
max_lat = np.amax(lats)
min_lon = np.amin(lons)
max_lon = np.amax(lons)   

fig = plt.figure(figsize=(4, 4))
ax = fig.add_subplot(1, 1, 1, projection=ccrs.PlateCarree())
ax.set_extent([min_lon, max_lon, min_lat, max_lat], crs=ccrs.PlateCarree())
ax.gridlines(draw_labels=True, dms=True, x_inline=False, y_inline=False)
cf = ax.contourf(lon2d, lat2d, var[6], transform=ccrs.PlateCarree())
cb = plt.colorbar(cf, orientation='horizontal', pad=0.05, aspect=50)
plt.title( xr_data['time'][start+i].values )
plt.show()

fig = plt.figure(figsize=(4, 4))
ax = fig.add_subplot(1, 1, 1, projection=ccrs.PlateCarree())
ax.set_extent([min_lon, max_lon, min_lat, max_lat], crs=ccrs.PlateCarree())
ax.gridlines(draw_labels=True, dms=True, x_inline=False, y_inline=False)
print(var.shape)
grads = np.array( np.gradient(var[6], axis=0) )
print(grads.shape)
cf = ax.contourf(lon2d, lat2d, grads, transform=ccrs.PlateCarree())
cb = plt.colorbar(cf, orientation='horizontal', pad=0.05, aspect=50)
plt.title( xr_data['time'][start+i].values )
plt.show()



