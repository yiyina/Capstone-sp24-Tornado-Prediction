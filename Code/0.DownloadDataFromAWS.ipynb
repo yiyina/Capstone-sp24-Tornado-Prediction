{
 "cells": [
  {
   "cell_type": "code",
   "execution_count": 205,
   "id": "e58fbd4b-ac6f-46b9-8f2d-c72d048aa804",
   "metadata": {},
   "outputs": [],
   "source": [
    "from datetime import datetime, timedelta\n",
    "import pandas as pd\n",
    "import boto3\n",
    "import botocore\n",
    "from botocore.exceptions import NoCredentialsError\n",
    "\n",
    "import gzip\n",
    "import shutil\n",
    "import os"
   ]
  },
  {
   "cell_type": "code",
   "execution_count": 206,
   "id": "9044deb3-5fc5-468f-9754-7ffe943a5992",
   "metadata": {},
   "outputs": [],
   "source": [
    "# Repeplace with your pwd and csv file name\n",
    "csv_storage = \"your_path_to_csv_storage/\"\n",
    "csv_name = \"2021_torn.csv\"\n",
    "\n",
    "# Define bucket name and prefix, replace with your prefered folder\n",
    "bucket_name = 'noaa-mrms-pds'\n",
    "s3_file_prefix = 'CONUS/EchoTop_18_00.50/'\n",
    "\n",
    "# set how many records you want to download\n",
    "n = 2\n",
    "\n",
    "# Replace with your download file storage address\n",
    "MRMS_storage = 'your_path_to_MRMS_storage/'"
   ]
  },
  {
   "cell_type": "code",
   "execution_count": 207,
   "id": "bab18604-7fcd-46c7-ac76-98d04fb5be46",
   "metadata": {},
   "outputs": [],
   "source": [
    "def download_file_from_s3(bucket_name, s3_file_path, local_file_path):\n",
    "    s3 = boto3.client('s3', config=botocore.client.Config(signature_version=botocore.UNSIGNED))\n",
    "    try:\n",
    "        s3.download_file(bucket_name, s3_file_path, local_file_path)\n",
    "        print(f\"File downloaded successfully: {local_file_path}\")\n",
    "    except FileNotFoundError:\n",
    "        print(\"The file was not found\")\n",
    "    except NoCredentialsError:\n",
    "        print(\"Credentials not available\")"
   ]
  },
  {
   "cell_type": "code",
   "execution_count": 208,
   "id": "2c0da2cd-2f2b-4b56-b9fc-e51e8123bdd8",
   "metadata": {},
   "outputs": [],
   "source": [
    "def decompress_gzip(gzip_file_path, decompressed_file_path):\n",
    "    with gzip.open(gzip_file_path, 'rb') as f_in:\n",
    "        with open(decompressed_file_path, 'wb') as f_out:\n",
    "            shutil.copyfileobj(f_in, f_out)\n",
    "    print(f\"File decompressed successfully: {decompressed_file_path}\")"
   ]
  },
  {
   "cell_type": "code",
   "execution_count": 209,
   "id": "8c401d5a-f932-4a15-929e-ca1beddff473",
   "metadata": {},
   "outputs": [],
   "source": [
    "def remove_file(file_path):\n",
    "    os.remove(file_path)\n",
    "    print(f\"File removed: {file_path}\")"
   ]
  },
  {
   "cell_type": "code",
   "execution_count": 210,
   "id": "cd8d1cb1-fd2c-421e-93b3-e48aa756c444",
   "metadata": {},
   "outputs": [],
   "source": [
    "def download_closest_file_from_s3(bucket_name, s3_file_prefix, target_time):\n",
    "    s3 = boto3.client('s3', config=botocore.client.Config(signature_version=botocore.UNSIGNED))\n",
    "    min_time_diff = timedelta.max\n",
    "    closest_file = None\n",
    "\n",
    "    # Combine the s3_file_prefix with the date of the target time\n",
    "    s3_file_prefix_with_date = f\"{s3_file_prefix}{target_time.strftime('%Y%m%d')}/\"\n",
    "    \n",
    "    # Iterate through files with the specified prefix\n",
    "    for obj in s3.list_objects_v2(Bucket=bucket_name, Prefix=s3_file_prefix_with_date).get('Contents', []):\n",
    "        # Extract file timestamp from its key\n",
    "        file_time_str = obj['Key'].split('_')[-1].split('.')[0]\n",
    "        file_time = datetime.strptime(file_time_str, '%Y%m%d-%H%M%S')\n",
    "        # print(\"file_time_str\", target_time)\n",
    "        \n",
    "        # Calculate time difference\n",
    "        time_diff = abs(target_time - file_time)\n",
    "        # print(\"time_diff\", target_time, \" \", file_time)\n",
    "        \n",
    "        # Update closest file if time difference is smaller\n",
    "        if time_diff < min_time_diff:\n",
    "            min_time_diff = time_diff\n",
    "            closest_file = obj['Key']\n",
    "\n",
    "    print(closest_file)\n",
    "\n",
    "    return closest_file"
   ]
  },
  {
   "cell_type": "code",
   "execution_count": 211,
   "id": "89e65a90-2184-4060-9088-d8745441cd33",
   "metadata": {},
   "outputs": [],
   "source": [
    "# read csv file\n",
    "csv_file_path = f\"{csv_storage}{csv_name}\"\n",
    "\n",
    "df = pd.read_csv(csv_file_path)"
   ]
  },
  {
   "cell_type": "code",
   "execution_count": 212,
   "id": "d47bf098-976e-4d54-89e3-5fad2614d031",
   "metadata": {},
   "outputs": [
    {
     "name": "stdout",
     "output_type": "stream",
     "text": [
      "[datetime.datetime(2021, 1, 1, 13, 1), datetime.datetime(2021, 1, 1, 13, 18)]\n"
     ]
    }
   ],
   "source": [
    "#Merge date and time columns into a datatime column\n",
    "df['datetime'] = pd.to_datetime(df['date'] + ' ' + df['time'])\n",
    "\n",
    "#Convert the datatime column to a Python datatime object and store it in a list\n",
    "target_times = [datetime(x.year, x.month, x.day, x.hour, x.minute, x.second) for x in df['datetime']]\n",
    "\n",
    "#Get the top n elements and convert them into a list\n",
    "target_times_first_n = target_times[:n]\n",
    "print(target_times_first_n)"
   ]
  },
  {
   "cell_type": "code",
   "execution_count": 214,
   "id": "e2ba48e2-63b7-4b22-9a75-9816c14a92d8",
   "metadata": {},
   "outputs": [
    {
     "name": "stdout",
     "output_type": "stream",
     "text": [
      "Local file path: /Users/yinayi/Downloads/AWS analysis/MRMS Data/MRMS_EchoTop_18_00.50_20210101-130037.grib2.gz\n",
      "File downloaded successfully: /Users/yinayi/Downloads/AWS analysis/MRMS Data/MRMS_EchoTop_18_00.50_20210101-130037.grib2.gz\n"
     ]
    }
   ],
   "source": [
    "if closest_file_name:\n",
    "    # Define local file path\n",
    "    local_file_name = closest_file_name.split('/')[-1]\n",
    "    local_file_path = f'{MRMS_storage}{local_file_name}'\n",
    "    print(f\"Local file path: {local_file_path}\")\n",
    "\n",
    "    # Download the closest file from S3\n",
    "    download_file_from_s3(bucket_name, closest_file_name, local_file_path)\n",
    "else:\n",
    "    print(\"No files found\")"
   ]
  },
  {
   "cell_type": "code",
   "execution_count": 215,
   "id": "8e0158db-4860-46d6-880e-a6179323f242",
   "metadata": {},
   "outputs": [
    {
     "name": "stdout",
     "output_type": "stream",
     "text": [
      "File decompressed successfully: /Users/yinayi/Downloads/AWS analysis/MRMS Data/MRMS_EchoTop_18_00.50_20210101-130037.grib2\n",
      "File removed: /Users/yinayi/Downloads/AWS analysis/MRMS Data/MRMS_EchoTop_18_00.50_20210101-130037.grib2.gz\n"
     ]
    }
   ],
   "source": [
    "decompressed_file_path = local_file_path.rsplit('.', 1)[0]\n",
    "decompress_gzip(local_file_path, decompressed_file_path)\n",
    "remove_file(local_file_path)"
   ]
  },
  {
   "cell_type": "code",
   "execution_count": 216,
   "id": "b3960515-c07c-4d6f-a856-b7adb054486b",
   "metadata": {},
   "outputs": [
    {
     "name": "stdout",
     "output_type": "stream",
     "text": [
      "CONUS/EchoTop_18_00.50/20210101/MRMS_EchoTop_18_00.50_20210101-130037.grib2.gz\n",
      "Local file path: /Users/yinayi/Downloads/AWS analysis/MRMS Data/MRMS_EchoTop_18_00.50_20210101-130037.grib2.gz\n",
      "File downloaded successfully: /Users/yinayi/Downloads/AWS analysis/MRMS Data/MRMS_EchoTop_18_00.50_20210101-130037.grib2.gz\n",
      "File decompressed successfully: /Users/yinayi/Downloads/AWS analysis/MRMS Data/MRMS_EchoTop_18_00.50_20210101-130037.grib2\n",
      "File removed: /Users/yinayi/Downloads/AWS analysis/MRMS Data/MRMS_EchoTop_18_00.50_20210101-130037.grib2.gz\n",
      "CONUS/EchoTop_18_00.50/20210101/MRMS_EchoTop_18_00.50_20210101-131839.grib2.gz\n",
      "Local file path: /Users/yinayi/Downloads/AWS analysis/MRMS Data/MRMS_EchoTop_18_00.50_20210101-131839.grib2.gz\n",
      "File downloaded successfully: /Users/yinayi/Downloads/AWS analysis/MRMS Data/MRMS_EchoTop_18_00.50_20210101-131839.grib2.gz\n",
      "File decompressed successfully: /Users/yinayi/Downloads/AWS analysis/MRMS Data/MRMS_EchoTop_18_00.50_20210101-131839.grib2\n",
      "File removed: /Users/yinayi/Downloads/AWS analysis/MRMS Data/MRMS_EchoTop_18_00.50_20210101-131839.grib2.gz\n"
     ]
    }
   ],
   "source": [
    "for target_time in target_times_first_n:\n",
    "    closest_file_name = download_closest_file_from_s3(bucket_name, s3_file_prefix, target_time)\n",
    "\n",
    "    if closest_file_name:\n",
    "        # Define local file path\n",
    "        local_file_name = closest_file_name.split('/')[-1]\n",
    "        # replace with your own storage address\n",
    "        MRMS_storage = '/Users/yinayi/Downloads/AWS analysis/MRMS Data/'\n",
    "        local_file_path = f'{MRMS_storage}{local_file_name}'\n",
    "        print(f\"Local file path: {local_file_path}\")\n",
    "\n",
    "        # Download the closest file from S3\n",
    "        download_file_from_s3(bucket_name, closest_file_name, local_file_path)\n",
    "        \n",
    "        # Decompress the downloaded file\n",
    "        decompressed_file_path = local_file_path.rsplit('.', 1)[0]\n",
    "        decompress_gzip(local_file_path, decompressed_file_path)\n",
    "        remove_file(local_file_path)\n",
    "    else:\n",
    "        print(\"No files found\")"
   ]
  },
  {
   "cell_type": "code",
   "execution_count": null,
   "id": "5c8f6c11-637b-4880-a2d2-7311e0b485b1",
   "metadata": {},
   "outputs": [],
   "source": []
  }
 ],
 "metadata": {
  "kernelspec": {
   "display_name": "Python 3 (ipykernel)",
   "language": "python",
   "name": "python3"
  },
  "language_info": {
   "codemirror_mode": {
    "name": "ipython",
    "version": 3
   },
   "file_extension": ".py",
   "mimetype": "text/x-python",
   "name": "python",
   "nbconvert_exporter": "python",
   "pygments_lexer": "ipython3",
   "version": "3.9.18"
  }
 },
 "nbformat": 4,
 "nbformat_minor": 5
}
