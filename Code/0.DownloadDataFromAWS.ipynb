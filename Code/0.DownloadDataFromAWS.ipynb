{
 "cells": [
  {
   "cell_type": "code",
   "execution_count": 205,
   "id": "e58fbd4b-ac6f-46b9-8f2d-c72d048aa804",
   "metadata": {},
   "outputs": [],
   "source": [
    "from datetime import datetime, timedelta\n",
    "import pandas as pd\n",
    "import boto3\n",
    "import botocore\n",
    "from botocore.exceptions import NoCredentialsError\n",
    "\n",
    "import gzip\n",
    "import shutil\n",
    "import os"
   ]
  },
  {
   "cell_type": "code",
   "execution_count": 206,
   "id": "9044deb3-5fc5-468f-9754-7ffe943a5992",
   "metadata": {},
   "outputs": [],
   "source": [
    "# Repeplace with your pwd and csv file name\n",
    "csv_storage = \"your_path_to_csv_storage/\"\n",
    "csv_name = \"2021_torn.csv\"\n",
    "\n",
    "# Define bucket name and prefix, replace with your prefered folder\n",
    "bucket_name = 'noaa-mrms-pds'\n",
    "s3_file_prefix = 'CONUS/EchoTop_18_00.50/'\n",
    "\n",
    "# set how many records you want to download\n",
    "n = 2\n",
    "\n",
    "# Replace with your download file storage address\n",
    "MRMS_storage = 'your_path_to_MRMS_storage/'"
   ]
  },
  {
   "cell_type": "code",
   "execution_count": 207,
   "id": "bab18604-7fcd-46c7-ac76-98d04fb5be46",
   "metadata": {},
   "outputs": [],
   "source": [
    "# Function definitions\n",
    "def download_file_from_s3(bucket, s3_path, local_path):\n",
    "    s3 = boto3.client('s3', config=botocore.client.Config(signature_version=botocore.UNSIGNED))\n",
    "    try:\n",
    "        s3.download_file(bucket, s3_path, local_path)\n",
    "        print(f\"File downloaded successfully: {local_path}\")\n",
    "    except FileNotFoundError:\n",
    "        print(\"The file was not found\")\n",
    "    except NoCredentialsError:\n",
    "        print(\"Credentials not available\")\n",
    "\n",
    "def decompress_gzip(gzip_path, decompressed_path):\n",
    "    with gzip.open(gzip_path, 'rb') as f_in, open(decompressed_path, 'wb') as f_out:\n",
    "        shutil.copyfileobj(f_in, f_out)\n",
    "    print(f\"File decompressed successfully: {decompressed_path}\")\n",
    "\n",
    "def remove_file(path):\n",
    "    os.remove(path)\n",
    "    print(f\"File removed: {path}\")\n",
    "\n",
    "def download_closest_file_from_s3(bucket, prefix, time):\n",
    "    s3 = boto3.client('s3', config=botocore.client.Config(signature_version=botocore.UNSIGNED))\n",
    "    closest_file = None\n",
    "    min_diff = timedelta.max\n",
    "    prefix_with_date = f\"{prefix}{time.strftime('%Y%m%d')}/\"\n",
    "\n",
    "    for obj in s3.list_objects_v2(Bucket=bucket, Prefix=prefix_with_date).get('Contents', []):\n",
    "        file_time = datetime.strptime(obj['Key'].split('_')[-1].split('.')[0], '%Y%m%d-%H%M%S')\n",
    "        diff = abs(time - file_time)\n",
    "        if diff < min_diff:\n",
    "            min_diff = diff\n",
    "            closest_file = obj['Key']\n",
    "    print('closest_file name', closest_file)\n",
    "\n",
    "    if closest_file:\n",
    "        local_file = f\"{MRMS_storage}{closest_file.split('/')[-1]}\"\n",
    "        download_file_from_s3(bucket, closest_file, local_file)\n",
    "        decompressed_file = local_file.rsplit('.', 1)[0]\n",
    "        decompress_gzip(local_file, decompressed_file)\n",
    "        remove_file(local_file)\n",
    "    else:\n",
    "        print(\"No files found\")"
   ]
  },
  {
   "cell_type": "code",
   "execution_count": 211,
   "id": "89e65a90-2184-4060-9088-d8745441cd33",
   "metadata": {},
   "outputs": [],
   "source": [
    "# read csv file\n",
    "csv_file_path = f\"{csv_storage}{csv_name}\"\n",
    "df = pd.read_csv(csv_file_path)\n",
    "\n",
    "df['datetime'] = pd.to_datetime(df['date'] + ' ' + df['time'])\n",
    "target_times = [datetime(x.year, x.month, x.day, x.hour, x.minute, x.second) for x in df['datetime']]\n",
    "\n",
    "for target_time in target_times[:n]:\n",
    "    download_closest_file_from_s3(bucket_name, s3_file_prefix, target_time)"
   ]
  }
 ],
 "metadata": {
  "kernelspec": {
   "display_name": "Python 3 (ipykernel)",
   "language": "python",
   "name": "python3"
  },
  "language_info": {
   "codemirror_mode": {
    "name": "ipython",
    "version": 3
   },
   "file_extension": ".py",
   "mimetype": "text/x-python",
   "name": "python",
   "nbconvert_exporter": "python",
   "pygments_lexer": "ipython3",
   "version": "3.9.18"
  }
 },
 "nbformat": 4,
 "nbformat_minor": 5
}
