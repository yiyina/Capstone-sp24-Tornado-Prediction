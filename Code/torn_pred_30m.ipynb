{
 "cells": [
  {
   "cell_type": "markdown",
   "id": "765b3aa5-77b6-4cad-92bc-3eef5ae2c329",
   "metadata": {},
   "source": [
    "### Tornado Prediction - 30 mins Prior Tornado Occurring\n",
    "\n",
    "Ver2.0 Make-up experiments based on the complete version torn_pred.ipynb \n",
    "\n",
    "Comparison Experiments - \n",
    "\n",
    "When calculating SHSR features, we use the SHRS frame 30min before weather phenomena (tornado/wind/hail) happened. Data saved as balanced_comb_bf30min.csv file.\n",
    "\n",
    "Short Conclusion - Extracting features from SHSR frame 30min before weather phenomenon happens will - 1)result in worse overall performance, 2) do harm to different categories' performances, not only tornado (however, under certain situation, tornado's prediction performance is not negatively influenced). \n",
    "\n",
    "\n"
   ]
  },
  {
   "cell_type": "markdown",
   "id": "3c3d49e0-83bd-4344-beca-1c98247055c7",
   "metadata": {},
   "source": [
    "# Tornado Prediction \n",
    "\n",
    "In this project, we are doing 3-category (\"torn\":0, \"wind\":1, \"hail\":2) classification based on some tabular data. We will use interpretable Logistic Regression as the baseline method and compare its performance with 3 advanced models :\n",
    "\n",
    "1. LightGBM;\n",
    "2. XGBoost;\n"
   ]
  },
  {
   "cell_type": "code",
   "execution_count": 9,
   "id": "3b0c6693-ff47-41fd-9a50-50e4d7880f44",
   "metadata": {
    "ExecuteTime": {
     "end_time": "2024-04-10T02:52:35.133736Z",
     "start_time": "2024-04-10T02:52:35.125686Z"
    }
   },
   "outputs": [],
   "source": [
    "# Load necessary libraries. \n",
    "import os \n",
    "import tqdm\n",
    "import random \n",
    "import numpy as np \n",
    "import pandas as pd \n",
    "import sklearn.metrics as metrics\n",
    "import shap \n",
    "\n",
    "# import our models \n",
    "from sklearn.linear_model import LogisticRegression\n",
    "from sklearn.ensemble import RandomForestClassifier, RandomForestRegressor \n",
    "from lightgbm import LGBMClassifier\n",
    "from xgboost import XGBClassifier "
   ]
  },
  {
   "cell_type": "markdown",
   "id": "cd28faa0-4bed-4bdc-a435-f6738539a573",
   "metadata": {},
   "source": [
    "## 1. Split Data and Data Preprocessing\n",
    "\n",
    "For now, we can only use .nc files' SHSR data to do classification or only use tabular data collected by us. [Their timestamp and location are not matching]. \n",
    "\n",
    "csvdata_combine_and_split(csv_path, cls_names, vars, ratio=[4,1,1], comb_file=\"comb\") \n",
    "\n",
    "funcs \n",
    "1. Randomly split the data into train/val/test sets with the ratio 4:1:1;\n",
    "2. Only keep given variables for later training and prediction;\n",
    "3. In original data, 'preciptype' is nan or ['rain'], replace them with 0 and 1;\n",
    "4. [for now] Replace all missing values with 0;\n",
    "5. Save the combined file as \"Combine_with_Temp/comb.csv\".\n",
    "\n",
    "Select proper variables that will be used for later training and prediction by defining a list vars;\n",
    "We are building diagnostic model at one location and time stamp (ignore columns describing time and location);\n",
    "In original csv file - all variables: <class 'numpy.float64'> dtype;  'preciptype': <class 'float'> / <class 'str'> dtype;\n",
    "\n",
    "[torn] category, 1359 items; [wind] category, 15525 items; [hail] category, 6261 items;"
   ]
  },
  {
   "cell_type": "code",
   "execution_count": 10,
   "id": "17c435cf-4051-45df-ab00-1e0588128249",
   "metadata": {
    "ExecuteTime": {
     "end_time": "2024-04-10T02:52:35.202597Z",
     "start_time": "2024-04-10T02:52:35.136240Z"
    }
   },
   "outputs": [
    {
     "name": "stdout",
     "output_type": "stream",
     "text": [
      "The lengths of torn's extra variables and indexes are 1364 and 1364\n",
      "The lengths of wind's extra variables and indexes are 15525 and 15525\n",
      "The lengths of hail's extra variables and indexes are 6261 and 6261\n"
     ]
    }
   ],
   "source": [
    "import numpy as np \n",
    "import pandas as pd \n",
    "import xarray as xr \n",
    "from netCDF4 import Dataset\n",
    "from operator import itemgetter\n",
    "\n",
    "threshold = 45          # can change threshold at certain window ... \n",
    "nc_path = \"data/SHSRdata/\"\n",
    "csv_path = \"data/\"\n",
    "cls_names = { \"torn\":0, \"wind\":1, \"hail\":2 }\n",
    "\n",
    "def time_diff( t1, t2, shift=6 ):  \n",
    "    # the shift here means \n",
    "    (h1,m1), (h2,m2) = t1, t2 \n",
    "    h2 = (h2+shift)%24 \n",
    "    return abs( (h1-h2)*60 + m1-m2 ) \n",
    "\n",
    "# Create new features based on SHSR data (Note - there might be some missing values).\n",
    "# Important - Select the SHSR timeframe that is closest to weather type's happening time. \n",
    "def get_shsr_stats( nc_path, n, label, if_window = False ):\n",
    "    stats = { \"mean\":[], \"max\":[], \"min\":[], \"var\":[], \"nonzeros\":[], \"above_threshold\":[] }\n",
    "    for i in tqdm.tqdm( range(n) ):\n",
    "        if os.path.exists( nc_path + \"/{}.nc\".format(i) ):\n",
    "            xr_data = xr.open_dataset(nc_path + \"/{}.nc\".format(i) ) \n",
    "            csv_data = pd.read_csv( csv_path+\"2021_{}.csv\".format(label) ).iloc[i]\n",
    "            \n",
    "            # select closest timeframe ... \n",
    "            tmp = str( csv_data[\"time\"] )\n",
    "            # print(tmp)\n",
    "            if tmp[1]==\":\":\n",
    "                h, x = 0, 2\n",
    "            elif tmp[0] == \"0\":\n",
    "                h, x = int(tmp[1]), 3\n",
    "            else:\n",
    "                h, x = int(tmp[:2]), 3\n",
    "            m = int(tmp[x:x+2]) \n",
    "            shsr = xr_data[\"SHSR\"].values\n",
    "            tmps = []\n",
    "            for i in range( len(xr_data['time']) ):\n",
    "                tmp = str(xr_data['time'][i].values)\n",
    "                if tmp[11] == \"0\":\n",
    "                    h_ = int(tmp[12])\n",
    "                else:\n",
    "                    h_ = int(tmp[11])\n",
    "                m_ = int(tmp[14:16])\n",
    "                tmps.append( time_diff( [h_,m_], [h,m] ) ) \n",
    "            index, element = min(enumerate(tmps), key=itemgetter(1))\n",
    "            index = max(index-3,0) \n",
    "            shsr_frame = shsr[index] \n",
    "            m,n = shsr_frame.shape \n",
    "            x,y = int(m/2), int(n/2) \n",
    "            # we need to crop the intensity map as (20,20) shape at center\n",
    "            crop_frame = shsr_frame[x-15:x+15,y-15:y+15]\n",
    "            tmp = [ np.mean(shsr_frame), np.max(shsr_frame), np.min(shsr_frame), np.var(shsr_frame), \n",
    "                   np.count_nonzero(shsr_frame), len( crop_frame[crop_frame>threshold] ) ]   # take care ... \n",
    "        else:\n",
    "            tmp = [0,0,0,0,0,0] \n",
    "        stats[\"mean\"].append( tmp[0] )\n",
    "        stats[\"max\"].append( tmp[1] )\n",
    "        stats[\"min\"].append( tmp[2] )\n",
    "        stats[\"var\"].append( tmp[3] )\n",
    "        stats[\"nonzeros\"].append( tmp[4] ) \n",
    "        stats[\"above_threshold\"].append( tmp[5] ) \n",
    "    return stats \n",
    "\n",
    "for cls in cls_names:\n",
    "    frame_extra = pd.read_csv( csv_path+\"2021_{}_UTC_combine_temperature.csv\".format(cls) ) \n",
    "    frame_index = pd.read_csv( csv_path+\"2021_{}.csv\".format(cls) ) \n",
    "    print( f\"The lengths of {cls}'s extra variables and indexes are {len(frame_extra)} and {len(frame_index)}\" )"
   ]
  },
  {
   "cell_type": "code",
   "execution_count": 11,
   "id": "84ca0857-851a-472f-8b00-2e58419bfca8",
   "metadata": {
    "ExecuteTime": {
     "end_time": "2024-04-10T02:52:35.207212Z",
     "start_time": "2024-04-10T02:52:35.205978Z"
    }
   },
   "outputs": [],
   "source": [
    "import time \n",
    "\n",
    "nc_path = \"data/SHSRdata/\"\n",
    "csv_path = \"data/\" \n",
    "cls_names = { \"torn\":0, \"wind\":1, \"hail\":2 }  # weather type and their assigned labels \n",
    "vars = [ 'temp', 'humidity', 'dew', 'precip', 'preciptype', 'windspeed', 'winddir', 'pressure', 'cloudcover', 'visibility']\n",
    "stat_vars = [ \"mean\", \"max\", \"min\", \"var\", \"nonzeros\", \"above_threshold\" ]\n",
    "\n",
    "def csvdata_combine_and_split(csv_path, cls_names, vars, ratio=[4,1,1], save_file=\"comb\"): \n",
    "    # the way to split pandas data \n",
    "    comb = []\n",
    "    for cls in cls_names:\n",
    "        frame = pd.read_csv( csv_path+\"2021_{}_UTC_combine_temperature.csv\".format(cls) )\n",
    "        frame = frame.fillna(0)\n",
    "        curr = frame[ vars ]\n",
    "        n = len(curr)\n",
    "        preciptypes = [ 0 ] * n\n",
    "        for i in range(n):\n",
    "            if curr['preciptype'][i] == \"['rain']\":\n",
    "                preciptypes[i] = 1\n",
    "            else:\n",
    "                preciptypes[i] = 0\n",
    "        curr['preciptype'] = preciptypes\n",
    "        print( f\"In [{cls}] category, there are { n } items in total\" )\n",
    "        stats = get_shsr_stats( nc_path+\"/\"+cls+\"/\", n, cls, False )\n",
    "        for stat in stats:\n",
    "            curr[stat] = stats[stat] \n",
    "        sets = [ \"val\" ]*int(n/sum(ratio)) + [\"test\"]*int(n/sum(ratio)) + [\"train\"]*(n-2*int(n/ sum(ratio) )) \n",
    "        random.shuffle(sets) \n",
    "        cls_list = [ cls_names[cls] ] * n \n",
    "        curr['label'] = cls_list    \n",
    "        curr['set'] = sets \n",
    "        curr = curr.sample(n=1364) \n",
    "        comb.append(curr) \n",
    "    comb = pd.concat( comb, axis=0 ) \n",
    "    comb.to_csv( csv_path + save_file + \".csv\" ) \n",
    "\n",
    "# uncomment to create split data randomly and save as a new comb.csv\n",
    "# time1 = time.time()\n",
    "# csvdata_combine_and_split(csv_path, cls_names, vars, ratio=[4,1,1], save_file=\"balanced_comb_bf30min\")\n",
    "# time2 = time.time()\n",
    "# print( \"It takes {}s to finish creating train/val/test sets.\".format(time2 - time1) ) \n",
    "vars += stat_vars"
   ]
  },
  {
   "cell_type": "markdown",
   "id": "fcdd77b0-97e6-4c27-a2db-a9669e4ea027",
   "metadata": {},
   "source": [
    "#### Functions to Read Dataset for Training/Validation/Test. \n",
    "provide functions to read our combined data as train/val/test sets, data/labels."
   ]
  },
  {
   "cell_type": "code",
   "execution_count": 12,
   "id": "6d76fd1b-a746-4e3d-9e52-87f78c4446d8",
   "metadata": {
    "ExecuteTime": {
     "end_time": "2024-04-10T02:52:35.210580Z",
     "start_time": "2024-04-10T02:52:35.209101Z"
    }
   },
   "outputs": [],
   "source": [
    "# we should balance train data among different categories ... \n",
    "def read_data( csv, vars, set='train' ):\n",
    "    dframe = pd.read_csv( csv )\n",
    "    x = dframe[ dframe['set']==set ][vars]\n",
    "    y = dframe[ dframe['set']==set ]['label'].values        \n",
    "    return x,y "
   ]
  },
  {
   "cell_type": "code",
   "execution_count": 13,
   "id": "2ecdf7c0-a64d-4d82-9bd4-167a198f1b12",
   "metadata": {
    "ExecuteTime": {
     "end_time": "2024-04-10T02:52:35.233744Z",
     "start_time": "2024-04-10T02:52:35.212650Z"
    }
   },
   "outputs": [
    {
     "name": "stdout",
     "output_type": "stream",
     "text": [
      "The number of data points in train set:\n",
      " (2754, 16) (2754,)\n",
      "<class 'pandas.core.frame.DataFrame'> <class 'numpy.ndarray'>\n",
      "The number of data points in val set:\n",
      " (676, 16) (676,)\n",
      "The number of data points in test set:\n",
      " (662, 16) (662,)\n"
     ]
    }
   ],
   "source": [
    "# Choose the Data we will use for training and test.\n",
    "csv_file = \"balanced_comb_bf30min.csv\"\n",
    "train_x, train_y = read_data( csv_path + \"/\" + csv_file, vars, set=\"train\" )\n",
    "print( f\"The number of data points in train set:\\n\", train_x.shape, train_y.shape )\n",
    "print( type(train_x), type(train_y) ) \n",
    "val_x, val_y = read_data( csv_path + \"/\" + csv_file, vars, set=\"val\" )\n",
    "print( f\"The number of data points in val set:\\n\", val_x.shape, val_y.shape )\n",
    "test_x, test_y = read_data( csv_path + \"/\" + csv_file, vars, set=\"test\" )\n",
    "print( f\"The number of data points in test set:\\n\", test_x.shape, test_y.shape )\n",
    "\n",
    "# train_x, train_y, val_x, val_y, test_x, test_y = read_data( csv_path + \"/\" + csv_file, vars, random_balanced = True )  \n",
    "# print( f\"The number of data points in train set:\\n\", train_x.shape, train_y.shape )"
   ]
  },
  {
   "cell_type": "markdown",
   "id": "f2d8df15-9500-4219-b6d2-00fef0752de5",
   "metadata": {},
   "source": [
    "## 2. Building Machine Learning Models for 3-Category Prediction \n",
    "\n",
    "Models\n",
    "1. [Baseline] Logistic Regression;\n",
    "2. Random Forest;\n",
    "3. LightGBM;\n",
    "4. XGBoost;\n",
    "\n",
    "Evaluation:\n",
    "1. Accuracy, Precision, Recall, F1 Score; \n",
    "2. Confusion Matrix;\n"
   ]
  },
  {
   "cell_type": "code",
   "execution_count": 14,
   "id": "1fb48940-c7dd-4762-93f6-2d0788a98750",
   "metadata": {
    "ExecuteTime": {
     "end_time": "2024-04-10T02:52:35.234454Z",
     "start_time": "2024-04-10T02:52:35.231923Z"
    }
   },
   "outputs": [],
   "source": [
    "import matplotlib.pyplot as plt \n",
    "from sklearn.metrics import accuracy_score, precision_score, recall_score, f1_score, roc_auc_score, confusion_matrix\n",
    "from sklearn.metrics import ConfusionMatrixDisplay \n",
    "\n",
    "def evaluate( model, train_x, train_y, test_x, test_y ):\n",
    "    \"\"\" uses the model to calculate a set of scores \"\"\"\n",
    "    # accuracy_score\n",
    "    print('Test Accuracy     :',model.score(test_x, test_y))\n",
    "    print('Training Accuracy    :',model.score(train_x,train_y))\n",
    "    # print( test_x[:10], \"\\n\", test_y[:10] )\n",
    "    pred_y = model.predict(test_x)\n",
    "    # acc = accuracy_score( test_y, pred_y )\n",
    "    # print(acc)\n",
    "    precision = precision_score( test_y, pred_y, average=None, zero_division=True )\n",
    "    recall = recall_score( test_y, pred_y, average=None )\n",
    "    f1 = f1_score( test_y, pred_y, average=None)\n",
    "    print('Testing precision :', precision )\n",
    "    print('Testing recall    :', recall )\n",
    "    print('F1 score          :', f1 )\n",
    "    # ROC AUC\n",
    "    probs=model.predict_proba(test_x) \n",
    "    print('ROC AUC           : %f' % roc_auc_score(test_y, probs, average=\"weighted\", multi_class='ovo'))\n",
    "    conf_mat = confusion_matrix( test_y, pred_y, normalize='true' )\n",
    "    disp = ConfusionMatrixDisplay(conf_mat, display_labels=[\"torn\", \"wind\", \"hail\"])\n",
    "    disp = disp.plot(cmap=plt.cm.Blues)   # ,values_format='g'\n",
    "    plt.show()"
   ]
  },
  {
   "cell_type": "markdown",
   "id": "5bb38f6e-2ee2-4e3b-89de-d59aab00a9b1",
   "metadata": {},
   "source": []
  },
  {
   "cell_type": "markdown",
   "id": "89a113c3-f323-4b0b-be98-3d134426f2f5",
   "metadata": {},
   "source": [
    "#### 1. LightGBM\n",
    "LightGBM is ..."
   ]
  },
  {
   "cell_type": "code",
   "execution_count": 15,
   "id": "40c75dff-6d3e-42ff-ad38-a80d8874277b",
   "metadata": {
    "ExecuteTime": {
     "end_time": "2024-04-10T02:52:40.997425Z",
     "start_time": "2024-04-10T02:52:35.235947Z"
    }
   },
   "outputs": [
    {
     "name": "stdout",
     "output_type": "stream",
     "text": [
      "============================= LightGBM =============================\n",
      "Test Accuracy     : 0.6691842900302115\n",
      "Training Accuracy    : 0.9992737835875091\n",
      "Testing precision : [0.72294372 0.66502463 0.61842105]\n",
      "Testing recall    : [0.73568282 0.58951965 0.68446602]\n",
      "F1 score          : [0.72925764 0.625      0.64976959]\n",
      "ROC AUC           : 0.839427\n"
     ]
    },
    {
     "data": {
      "text/plain": "<Figure size 640x480 with 2 Axes>",
      "image/png": "[encoded data removed]"
     },
     "metadata": {},
     "output_type": "display_data"
    }
   ],
   "source": [
    "print('============================= LightGBM =============================')\n",
    "params = {\n",
    "            'objective':\"multiclass\",\n",
    "            'metric' : 'multi_logloss',\n",
    "            'num_class': 3,\n",
    "            'verbose' : -1,    # what does verbose mean???\n",
    "            'boosting_type' : 'gbdt',\n",
    "            'colsample_bytree' : 0.2,\n",
    "            'num_leaves' : 10,\n",
    "            'max_depth' : 3,\n",
    "            'n_estimators' : 5000,\n",
    "            'min_child_samples': 10, \n",
    "            'min_child_weight': 0.5,\n",
    "            'reg_alpha': 0.1,\n",
    "            'reg_lambda': 10,\n",
    "            'subsample': 0.6,\n",
    "            'num_threads' : 4,\n",
    "            'learning_rate':0.02\n",
    "}\n",
    "\n",
    "lgb = LGBMClassifier( n_estimators=5000, verbose=-1 )\n",
    "lgb.fit(train_x, train_y)\n",
    "evaluate( lgb, train_x, train_y, test_x, test_y )"
   ]
  },
  {
   "cell_type": "markdown",
   "id": "d70e7457-b382-48ca-86c8-5b0a0f3923a8",
   "metadata": {},
   "source": [
    "#### 2. XGBoost \n",
    "XGBoost is ... "
   ]
  },
  {
   "cell_type": "code",
   "execution_count": 16,
   "id": "cbd3774f-a7ef-478d-b748-cb9dbe953b0b",
   "metadata": {
    "ExecuteTime": {
     "end_time": "2024-04-10T02:52:41.560189Z",
     "start_time": "2024-04-10T02:52:40.998052Z"
    }
   },
   "outputs": [
    {
     "name": "stdout",
     "output_type": "stream",
     "text": [
      "============================= XGBoost =============================\n",
      "Test Accuracy     : 0.6555891238670695\n",
      "Training Accuracy    : 0.9967320261437909\n",
      "Testing precision : [0.71555556 0.64285714 0.60792952]\n",
      "Testing recall    : [0.7092511  0.58951965 0.66990291]\n",
      "F1 score          : [0.71238938 0.61503417 0.63741339]\n",
      "ROC AUC           : 0.837297\n"
     ]
    },
    {
     "data": {
      "text/plain": "<Figure size 640x480 with 2 Axes>",
      "image/png": "[encoded data removed]"
     },
     "metadata": {},
     "output_type": "display_data"
    }
   ],
   "source": [
    "print('============================= XGBoost =============================')\n",
    "\n",
    "param = {'base_score':0.34,'booster':'gbtree','objective':'multi:softmax',\n",
    "        'max_delta_step':2,'n_jobs':4,'random_state':0, 'max_depth':3,\n",
    "         'min_child_weight':3,'n_estimators':5000,'subsample':1.0,'colsample_bytree':0.3,\n",
    "         'reg_lambda':10,'reg_alpha':0.1,'learning_rate':0.02,'gamma':0.3}    \n",
    "\n",
    "xgb = XGBClassifier()\n",
    "xgb.fit(train_x, train_y) \n",
    "evaluate( xgb, train_x, train_y, test_x, test_y )"
   ]
  }
 ],
 "metadata": {
  "kernelspec": {
   "display_name": "Python 3 (ipykernel)",
   "language": "python",
   "name": "python3"
  },
  "language_info": {
   "codemirror_mode": {
    "name": "ipython",
    "version": 3
   },
   "file_extension": ".py",
   "mimetype": "text/x-python",
   "name": "python",
   "nbconvert_exporter": "python",
   "pygments_lexer": "ipython3",
   "version": "3.12.2"
  }
 },
 "nbformat": 4,
 "nbformat_minor": 5
}
